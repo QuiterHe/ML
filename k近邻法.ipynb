{
 "cells": [
  {
   "cell_type": "markdown",
   "metadata": {},
   "source": [
    "## k近邻法\n",
    "### 三要素\n",
    "> 1.k值的选择\n",
    "> 2.距离度量\n",
    "> 3.分类决策规则\n",
    "\n",
    "## 距离\n",
    "### $L_p$距离\n",
    "$$L_p\\left( x_i, x_j \\right) = \\left( \\sum_{l=1}^{n}{\\left|x_i^{(l)}-x_j^{(l)}\\right|^p} \\right)^\\frac{1}{p} $$\n",
    "### 欧式距离\n",
    "当$L_p$距离的$p=2$时，称为欧式距离\n",
    "$$ L_2\\left( x_i, x_j \\right) = \\left( \\sum_{l=1}^n \\left| x_i^{(l)}-x_j^{(l)} \\right|^2 \\right)^{\\frac{1}{2}} $$\n",
    "### 曼哈顿距离\n",
    "当$L_p$距离的$p=1$时，称为曼哈顿距离\n",
    "$$ L_1\\left( x_i, x_j \\right) = \\sum_{l=1}^n \\left| x_i^{(l)}-x_j^{(l)} \\right|  $$\n",
    "### \\$坐标距离最大值\n",
    "当$L_p$距离的$p=\\infty$时，称为欧式距离\n",
    "$$ L_\\infty\\left( x_i, x_j \\right) = \\max_l \\left| x_i^{(l)}-x_j^{(l)} \\right| $$"
   ]
  }
 ],
 "metadata": {
  "kernelspec": {
   "display_name": "Python 2",
   "language": "python",
   "name": "python2"
  },
  "language_info": {
   "codemirror_mode": {
    "name": "ipython",
    "version": 2
   },
   "file_extension": ".py",
   "mimetype": "text/x-python",
   "name": "python",
   "nbconvert_exporter": "python",
   "pygments_lexer": "ipython2",
   "version": "2.7.13"
  }
 },
 "nbformat": 4,
 "nbformat_minor": 2
}
