{
 "cells": [
  {
   "cell_type": "code",
   "execution_count": 1,
   "metadata": {},
   "outputs": [
    {
     "name": "stdout",
     "output_type": "stream",
     "text": [
      "[0 0 0 0 0 1]\n"
     ]
    },
    {
     "name": "stderr",
     "output_type": "stream",
     "text": [
      "/Users/hezhang/anaconda/lib/python2.7/site-packages/ipykernel_launcher.py:13: DataConversionWarning: A column-vector y was passed when a 1d array was expected. Please change the shape of y to (n_samples, ), for example using ravel().\n",
      "  del sys.path[0]\n"
     ]
    }
   ],
   "source": [
    "## KNN K-近邻\n",
    "from sklearn.neighbors import KNeighborsClassifier\n",
    "\n",
    "x_train = []\n",
    "y_train = []\n",
    "num = 10000\n",
    "for i in range(num):\n",
    "    x_train.append([i])\n",
    "    y_train.append([0 if (i< num/2) else 1])\n",
    "x_test = [[10],[11],[12],[13],[14],[9999]]\n",
    "\n",
    "model = KNeighborsClassifier()\n",
    "# model = svm.SVC()\n",
    "model.fit(x_train, y_train)\n",
    "model.score(x_train, y_train)\n",
    "\n",
    "# print('Coefficient: n', model.coef_)\n",
    "# print('Intercept: n', model.intercept_)\n",
    "\n",
    "predicted= model.predict(x_test)\n",
    "\n",
    "print predicted"
   ]
  },
  {
   "cell_type": "code",
   "execution_count": null,
   "metadata": {
    "collapsed": true
   },
   "outputs": [],
   "source": []
  }
 ],
 "metadata": {
  "kernelspec": {
   "display_name": "Python 2",
   "language": "python",
   "name": "python2"
  },
  "language_info": {
   "codemirror_mode": {
    "name": "ipython",
    "version": 2
   },
   "file_extension": ".py",
   "mimetype": "text/x-python",
   "name": "python",
   "nbconvert_exporter": "python",
   "pygments_lexer": "ipython2",
   "version": "2.7.13"
  }
 },
 "nbformat": 4,
 "nbformat_minor": 2
}
