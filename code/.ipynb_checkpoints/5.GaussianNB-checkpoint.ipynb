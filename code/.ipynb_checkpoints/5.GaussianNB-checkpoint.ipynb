{
 "cells": [
  {
   "cell_type": "code",
   "execution_count": 3,
   "metadata": {},
   "outputs": [
    {
     "name": "stdout",
     "output_type": "stream",
     "text": [
      "[0 0 0 0 0 1]\n"
     ]
    }
   ],
   "source": [
    "## 朴素贝叶斯\n",
    "## link https://en.wikipedia.org/wiki/Bayes%27_theorem\n",
    "from sklearn.naive_bayes import GaussianNB\n",
    "\n",
    "x_train = []\n",
    "y_train = []\n",
    "num = 10000\n",
    "for i in range(num):\n",
    "    x_train.append([i])\n",
    "    y_train.append([0 if (i< num/2) else 1])\n",
    "x_test = [[10],[11],[12],[13],[14],[9999]]\n",
    "\n",
    "model = GaussianNB()\n",
    "# model = svm.SVC()\n",
    "model.fit(x_train, y_train)\n",
    "model.score(x_train, y_train)\n",
    "\n",
    "# print('Coefficient: n', model.coef_)\n",
    "# print('Intercept: n', model.intercept_)\n",
    "\n",
    "predicted= model.predict(x_test)\n",
    "\n",
    "print predicted"
   ]
  },
  {
   "cell_type": "code",
   "execution_count": 28,
   "metadata": {},
   "outputs": [
    {
     "name": "stdout",
     "output_type": "stream",
     "text": [
      "{0: 0.5, 1: 0.5}\n"
     ]
    }
   ],
   "source": [
    "x = [1,2,3,4,5,6,7,8,9,10]\n",
    "y = [0,0,0,0,0,1,1,1,1,1]\n",
    "\n",
    "p_y = {}\n",
    "\n",
    "\n",
    "for le in range(len(y)):\n",
    "    if p_y.has_key(y[le]):\n",
    "        p_y[y[le]] += 1\n",
    "    else:\n",
    "        p_y[y[le]] = 1\n",
    "    \n",
    "le = len(y) + 0.0\n",
    "for l in p_y.keys():\n",
    "    p_y[l] /= le\n",
    "    \n",
    "print p_y"
   ]
  }
 ],
 "metadata": {
  "kernelspec": {
   "display_name": "Python 2",
   "language": "python",
   "name": "python2"
  },
  "language_info": {
   "codemirror_mode": {
    "name": "ipython",
    "version": 2
   },
   "file_extension": ".py",
   "mimetype": "text/x-python",
   "name": "python",
   "nbconvert_exporter": "python",
   "pygments_lexer": "ipython2",
   "version": "2.7.13"
  }
 },
 "nbformat": 4,
 "nbformat_minor": 2
}
