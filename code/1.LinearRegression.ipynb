{
 "cells": [
  {
   "cell_type": "code",
   "execution_count": 1,
   "metadata": {},
   "outputs": [
    {
     "name": "stdout",
     "output_type": "stream",
     "text": [
      "[[1, 1], [2, 2], [3, 3], [4, 4], [5, 5], [6, 6], [7, 7], [8, 8], [9, 9]]\n",
      "('Coefficient: n', array([[ 0.5,  0.5]]))\n",
      "('Intercept: n', array([ 0.88888889]))\n",
      "[[  11.88888889]\n",
      " [  12.88888889]\n",
      " [  13.88888889]\n",
      " [  14.88888889]\n",
      " [ 100.88888889]]\n"
     ]
    }
   ],
   "source": [
    "from sklearn import linear_model\n",
    "\n",
    "x_train = [[1,1],[2,2],[3,3],[4,4],[5,5],[6,6],[7,7],[8,8],[9,9]]\n",
    "y_train = [[2],[3],[4],[5],[5],[7],[8],[9],[10]]\n",
    "\n",
    "x_test = [[11,11],[12,12],[13,13],[14,14],[100,100]]\n",
    "\n",
    "print x_train\n",
    "\n",
    "\n",
    "linear = linear_model.LinearRegression()Z                h \n",
    "linear.fit(x_train,y_train)\n",
    "# linear.score(x_train, y_train)\n",
    "\n",
    "print('Coefficient: n', linear.coef_)\n",
    "print('Intercept: n', linear.intercept_)\n",
    "\n",
    "predicted = linear.predict(x_test)\n",
    "\n",
    "print predicted"
   ]
  }
 ],
 "metadata": {
  "kernelspec": {
   "display_name": "Python 2",
   "language": "python",
   "name": "python2"
  },
  "language_info": {
   "codemirror_mode": {
    "name": "ipython",
    "version": 2
   },
   "file_extension": ".py",
   "mimetype": "text/x-python",
   "name": "python",
   "nbconvert_exporter": "python",
   "pygments_lexer": "ipython2",
   "version": "2.7.13"
  }
 },
 "nbformat": 4,
 "nbformat_minor": 2
}
