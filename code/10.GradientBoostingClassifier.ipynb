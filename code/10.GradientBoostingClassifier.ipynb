{
 "cells": [
  {
   "cell_type": "code",
   "execution_count": 3,
   "metadata": {},
   "outputs": [
    {
     "name": "stdout",
     "output_type": "stream",
     "text": [
      "[0 0 0 0 0 1]\n"
     ]
    }
   ],
   "source": [
    "## GradientBoostingClassifier 集成算法\n",
    "## link http://www.analyticsvidhya.com/blog/2015/05/boosting-algorithms-simplified/\n",
    "from sklearn.ensemble import GradientBoostingClassifier\n",
    "\n",
    "x_train = []\n",
    "y_train = []\n",
    "num = 10000\n",
    "for i in range(num):\n",
    "    x_train.append([i])\n",
    "    y_train.append([0 if (i< num/2) else 1])\n",
    "x_test = [[10],[11],[12],[13],[14],[9999]]\n",
    "\n",
    "\n",
    "model = GradientBoostingClassifier(n_estimators=100, learning_rate=1.0, max_depth=1, random_state=0)\n",
    "# model = svm.SVC()\n",
    "model.fit(x_train, y_train)\n",
    "model.score(x_train, y_train)\n",
    "\n",
    "predicted= model.predict(x_test)\n",
    "\n",
    "print predicted"
   ]
  }
 ],
 "metadata": {
  "kernelspec": {
   "display_name": "Python 2",
   "language": "python",
   "name": "python2"
  },
  "language_info": {
   "codemirror_mode": {
    "name": "ipython",
    "version": 2
   },
   "file_extension": ".py",
   "mimetype": "text/x-python",
   "name": "python",
   "nbconvert_exporter": "python",
   "pygments_lexer": "ipython2",
   "version": "2.7.13"
  }
 },
 "nbformat": 4,
 "nbformat_minor": 2
}
