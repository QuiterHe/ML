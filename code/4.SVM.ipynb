{
 "cells": [
  {
   "cell_type": "code",
   "execution_count": null,
   "metadata": {
    "collapsed": true
   },
   "outputs": [],
   "source": [
    "## 支持向量机\n",
    "## link http://www.analyticsvidhya.com/blog/2014/10/support-vector-machine-simplified/\n",
    "\n",
    "from sklearn.linear_model import LogisticRegression\n",
    "from sklearn import svm\n",
    "\n",
    "x_train = []\n",
    "y_train = []\n",
    "num = 10000\n",
    "for i in range(num):\n",
    "    x_train.append([i])\n",
    "    y_train.append([0 if (i< num/2) else 1])\n",
    "x_test = [[10],[11],[12],[13],[14],[9999]]\n",
    "\n",
    "\n",
    "# model = LogisticRegression()\n",
    "model = svm.SVC()\n",
    "model.fit(x_train, y_train)\n",
    "model.score(x_train, y_train)\n",
    "\n",
    "print('Coefficient: n', model.coef_)\n",
    "print('Intercept: n', model.intercept_)\n",
    "\n",
    "predicted= model.predict(x_test)\n",
    "\n",
    "print predicted"
   ]
  }
 ],
 "metadata": {
  "kernelspec": {
   "display_name": "Python 2",
   "language": "python",
   "name": "python2"
  },
  "language_info": {
   "codemirror_mode": {
    "name": "ipython",
    "version": 2
   },
   "file_extension": ".py",
   "mimetype": "text/x-python",
   "name": "python",
   "nbconvert_exporter": "python",
   "pygments_lexer": "ipython2",
   "version": "2.7.13"
  }
 },
 "nbformat": 4,
 "nbformat_minor": 2
}
