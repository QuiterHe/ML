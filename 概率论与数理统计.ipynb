{
 "cells": [
  {
   "cell_type": "markdown",
   "metadata": {},
   "source": [
    "# 概率论与数理统计\n",
    "\n",
    "## 概率\n",
    "> 表征事件发生的可能性大小\n",
    "\n",
    "## 事件\n",
    "> 某种情况的“陈述”\n",
    "> 与试验结果有关的一个命题\n",
    "> 包括基本事件，随机事件，必然事件\n",
    "\n",
    "## 古典概率\n",
    "> 全部试验结果有限且等可能\n",
    "\n",
    "## 几何概率\n",
    ">  试验结果无限\n",
    "\n",
    "## 频率与概率（概率的统计意义）\n",
    "> 频率-(估计)-> 概率\n",
    "\n",
    "$$ C_n^0 + C_n^1 + \\cdots + C_n^n = 2^n $$\n"
   ]
  },
  {
   "cell_type": "markdown",
   "metadata": {},
   "source": [
    "## 排列组合\n",
    "### 排列公式\n",
    "$$ A_n^m = n\\left( n-1 \\right) \\cdots \\left( n-m+1 \\right) = \\frac{n!}{(n-m)!} $$\n",
    "### 组合公式\n",
    "$$ C_n^m = \\frac{A_n^m}{m!} = \\frac{n!}{m!\\left( n-m \\right)!} $$\n",
    "\n",
    "$$ \\binom{n}{r} = C_n^r $$\n",
    "> 其中$r$为非负整数 $n$为任意实数\n",
    "> 上式又常称为二项式系数\n",
    "\n",
    "$$ (a+b)^n = \\sum_{i=0}^n{\\binom{n}{r} a^{i}b^{n-i}} $$"
   ]
  },
  {
   "cell_type": "markdown",
   "metadata": {},
   "source": [
    "## 事件的运算、条件概率与独立性\n",
    "\n",
    "### 包含\n",
    "$$ A\\subset B $$\n",
    "> $B$包含$A$\n",
    "\n",
    "### 相等\n",
    "$$ A\\subset B 且 B\\subset A$$\n",
    "\n",
    "### 事件的互斥和对立\n",
    "互斥\n",
    "$$ A且\\overline{B} $$\n",
    "对立\n",
    "$$ B=\\overline{A} $$\n",
    "\n",
    "### 事件的和（或）\n",
    "$$ C = A + B $$\n",
    "\n",
    "### 概率的加法定理\n",
    "$$ P(A_1 + A_2 + \\cdots ) = P(A_1) + P(A_2) + \\cdots $$\n",
    "条件：事件两两互斥\n",
    "\n",
    "## 条件概率\n",
    "$$ P(A|B) = \\frac{P(AB)}{P(B)} $$\n",
    "> $B$发生的条件下$A$发生的概率\n",
    "\n",
    "### 事件独立\n",
    "$$ P(AB) = P(A)P(B) $$\n",
    "\n",
    "### 概率的乘法定理\n",
    "$$ P(A_1\\cdots A_n ) = P(A_1) \\cdots P(A_n) $$\n",
    "条件：事件相互独立\n",
    "\n",
    "### 全概率公式\n",
    "> 设$ B_1, B_2,\\cdots $为有限或无限个事件，它们两两互斥且在每次试验中至少发生一个。即：\n",
    "$$ B_iB_j = \\varnothing（不可能事件），当i\\ne j $$\n",
    "$$ B_1 + B_2 + \\cdots = \\Omega（必然事件） $$\n",
    "\n",
    "把具有以上性质的一组事件称为一个“完备事件群”\n",
    "\n",
    "对任一事件$A$有\n",
    "$$ P(A) = P(B_1)P(A|B_1) +  P(B_2)P(A|B_2) + \\cdots $$\n",
    "以上公式称为全概率公式，可以看作是各个事件的加权平均"
   ]
  },
  {
   "cell_type": "markdown",
   "metadata": {},
   "source": [
    "## 贝叶斯公式\n",
    "$$ P(B_i|A) = \\frac{P(AB_i)}{P(A)} = \\frac{P(B_i)P(A|B_i)}{\\sum_j{P(B_i)P(A|B_i)}}  $$"
   ]
  },
  {
   "cell_type": "markdown",
   "metadata": {},
   "source": [
    "## 随机变量\n",
    "> 1. 离散型随机变量\n",
    "> 2. 连续型随机变量\n",
    "\n",
    "## 概率函数\n",
    "$$ p_i = P(X = a_i), i = 1,2,\\cdots $$\n",
    "$X$为离散型随机变量且$X=\\left\\{ a_1, a_2, \\cdots \\right\\}$\n",
    "\n",
    "## 分布函数\n",
    "$$ F(x) = P(X \\le x), -\\infty < x < \\infty $$\n",
    "$$ F(x) = P(X \\le x ) = \\sum_{i:a_i\\le x}{p_i} $$\n",
    "\n",
    "## 二项分布\n",
    "设事件$A$在一次试验中发生的概率为$p$。现把这试验独立重复$n$次。随机变量$X$表示$A$在$n$次试验中发生的次数。则$X \\in \\{0, 1, \\cdots, n\\}$。考虑事件${X = i}$，要这个事件发生，必须在这$n$次试验的原始记录中：\n",
    "$$ AA\\overline{A}A\\cdots\\overline{A}A\\overline{A} $$\n",
    "有$i$个$A$，$n - i$个$\\overline{A}$.即对一个特定的记录，其概率函数为\n",
    "$$ p^i(1-p)^{(n-i)} $$\n",
    "则$X$的概率函数为\n",
    "$$p_i = b(i; n, p) = \\binom{n}{i}p^i(1-p)^{(n-i)}, i = 0, 1, \\cdots, n $$\n",
    "\n",
    "以上$X$遵从的概率分布称为二项分布，记为$B(n, p)$\n",
    "$$ X\\sim{B(n, p)} $$\n",
    "\n",
    "## 柏松分布\n",
    "$$ P(X = i) = \\frac{ e^{-\\lambda}\\lambda^i } {i!} $$\n",
    "$\\lambda > 0$为某一常数，$X \\in {0, 1, \\cdots}$称$X$服从柏松分布，记为\n",
    "$$ X \\sim P(\\lambda) $$\n",
    "由于\n",
    "$$ e^\\lambda = \\sum_{i=0}^{\\infty}{\\frac{\\lambda^{i}}{i!}} $$\n",
    "故对柏松分布求和结果为1\n",
    "柏松分布多出现在当$X$表示在一定的时间或空间内出现的事件个数的场合\n",
    "\n",
    "\n",
    "柏松分布可作为二项分布的极限情况(当$ n \\to \\infty $)\n",
    "$$ \\frac{\\binom{n}{i}}{n^i} \\to \\frac{1}{i!} $$\n",
    "$$ \\left( 1 - \\frac{\\lambda}{n} \\right) \\to e^(-\\lambda) $$\n",
    "\n",
    "若$ X \\sim P(\\lambda) $，其中$n$很大，$p$很小而$np=\\lambda$不太大时，则$X$的分布接近与柏松分布\n",
    "\n",
    "## 超几何分布\n",
    "$$ P(X = m) = \\frac{ \\binom{M}{m}\\binom{N-M}{n-m} } { \\binom{N}{n} } $$\n",
    "原型：$N$件产品，$M$件优品，从中取出$n$件产品，求优品是$m$的概率  \n",
    "注意： 超几何分布是一种不放回的 抽样\n",
    "\n"
   ]
  },
  {
   "cell_type": "markdown",
   "metadata": {},
   "source": [
    "##  概率密度函数\n",
    "连续型随机变量$X$有概率分布函数$F(x)$,则$F(x)$的导数$f(x) = F'(x)$称为$X$的概率密度函数,即\n",
    "$$ f(x) = F'(x) $$"
   ]
  }
 ],
 "metadata": {
  "kernelspec": {
   "display_name": "Python 2",
   "language": "python",
   "name": "python2"
  },
  "language_info": {
   "codemirror_mode": {
    "name": "ipython",
    "version": 2
   },
   "file_extension": ".py",
   "mimetype": "text/x-python",
   "name": "python",
   "nbconvert_exporter": "python",
   "pygments_lexer": "ipython2",
   "version": "2.7.13"
  }
 },
 "nbformat": 4,
 "nbformat_minor": 2
}
