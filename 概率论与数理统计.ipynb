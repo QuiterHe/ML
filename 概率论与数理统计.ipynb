{
 "cells": [
  {
   "cell_type": "markdown",
   "metadata": {},
   "source": [
    "# 概率论与数理统计\n",
    "\n",
    "## 概率\n",
    "> 表征事件发生的可能性大小\n",
    "\n",
    "## 事件\n",
    "> 某种情况的“陈述”\n",
    "> 与试验结果有关的一个命题\n",
    "> 包括基本事件，随机事件，必然事件\n",
    "\n",
    "## 古典概率\n",
    "> 全部试验结果有限且等可能\n",
    "\n",
    "## 几何概率\n",
    ">  试验结果无限\n",
    "\n",
    "## 频率与概率（概率的统计意义）\n",
    "> 频率-(估计)-> 概率\n",
    "\n",
    "$$ C_n^0 + C_n^1 + \\cdots + C_n^n = 2^n $$\n"
   ]
  },
  {
   "cell_type": "markdown",
   "metadata": {},
   "source": [
    "## 排列组合\n",
    "### 排列公式\n",
    "$$ A_n^m = n\\left( n-1 \\right) \\cdots \\left( n-m+1 \\right) = \\frac{n!}{(n-m)!} $$\n",
    "### 组合公式\n",
    "$$ C_n^m = \\frac{A_n^m}{m!} = \\frac{n!}{m!\\left( n-m \\right)!} $$\n",
    "\n",
    "$$ \\binom{n}{r} = C_n^r $$\n",
    "> 其中$r$为非负整数 $n$为任意实数\n",
    "> 上式又常称为二项式系数\n",
    "\n",
    "$$ (a+b)^n = \\sum_{i=0}^n{\\binom{n}{r} a^{i}b^{n-i}} $$"
   ]
  },
  {
   "cell_type": "markdown",
   "metadata": {},
   "source": [
    "## 事件的运算、条件概率与独立性\n",
    "\n",
    "### 包含\n",
    "$$ A\\subset B $$\n",
    "> $B$包含$A$\n",
    "\n",
    "### 相等\n",
    "$$ A\\subset B 且 B\\subset A$$\n",
    "\n",
    "### 事件的互斥和对立\n",
    "互斥\n",
    "$$ A且\\overline{B} $$\n",
    "对立\n",
    "$$ B=\\overline{A} $$\n",
    "\n",
    "### 事件的和（或）\n",
    "$$ C = A + B $$\n",
    "\n",
    "### 概率的加法定理\n",
    "$$ P(A_1 + A_2 + \\cdots ) = P(A_1) + P(A_2) + \\cdots $$\n",
    "条件：事件两两互斥\n",
    "\n",
    "## 条件概率\n",
    "$$ P(A|B) $$"
   ]
  }
 ],
 "metadata": {
  "kernelspec": {
   "display_name": "Python 2",
   "language": "python",
   "name": "python2"
  },
  "language_info": {
   "codemirror_mode": {
    "name": "ipython",
    "version": 2
   },
   "file_extension": ".py",
   "mimetype": "text/x-python",
   "name": "python",
   "nbconvert_exporter": "python",
   "pygments_lexer": "ipython2",
   "version": "2.7.13"
  }
 },
 "nbformat": 4,
 "nbformat_minor": 2
}
