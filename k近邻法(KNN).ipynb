{
 "cells": [
  {
   "cell_type": "markdown",
   "metadata": {},
   "source": [
    "## k近邻法\n",
    "### 三要素\n",
    "> 1.k值的选择\n",
    "> 2.距离度量\n",
    "> 3.分类决策规则\n",
    "\n",
    "## 距离\n",
    "### $L_p$距离\n",
    "$$L_p\\left( x_i, x_j \\right) = \\left\\lgroup \\sum_{l=1}^{n}{\\left|x_i^{(l)}-x_j^{(l)}\\right|^p} \\right\\rgroup^\\frac{1}{p} $$\n",
    "### 欧式距离\n",
    "当$L_p$距离的$p=2$时，称为欧式距离\n",
    "$$ L_2\\left( x_i, x_j \\right) = \\left\\lgroup \\sum_{l=1}^n \\left| x_i^{(l)}-x_j^{(l)} \\right|^2 \\right\\rgroup^{\\frac{1}{2}} $$\n",
    "### 曼哈顿距离\n",
    "当$L_p$距离的$p=1$时，称为曼哈顿距离\n",
    "$$ L_1\\left( x_i, x_j \\right) = \\sum_{l=1}^n \\left| x_i^{(l)}-x_j^{(l)} \\right|  $$\n",
    "### 切比雪夫距离\n",
    "当$L_p$距离的$p=\\infty$时，称为切比雪夫距离\n",
    "$$ L_\\infty\\left( x_i, x_j \\right) = \\max_l \\left| x_i^{(l)}-x_j^{(l)} \\right| $$\n",
    "\n",
    "## kd树\n"
   ]
  },
  {
   "cell_type": "code",
   "execution_count": 52,
   "metadata": {
    "scrolled": true
   },
   "outputs": [
    {
     "name": "stderr",
     "output_type": "stream",
     "text": [
      "/Users/hezhang/anaconda/lib/python2.7/site-packages/sklearn/utils/validation.py:395: DeprecationWarning: Passing 1d arrays as data is deprecated in 0.17 and will raise ValueError in 0.19. Reshape your data either using X.reshape(-1, 1) if your data has a single feature or X.reshape(1, -1) if it contains a single sample.\n",
      "  DeprecationWarning)\n"
     ]
    }
   ],
   "source": [
    " from sklearn import neighbors\n",
    " import numpy as np\n",
    " \n",
    " x = np.array([[-1, -1], [-2, -1], [-3, -2], [1, 1], [2, 1], [3, 2]])\n",
    " y = [1, 1]\n",
    " nbr = neighbors.NearestNeighbors(n_neighbors=2, algorithm='auto').fit(x)\n",
    " distance, indices = nbr.kneighbors(y)"
   ]
  },
  {
   "cell_type": "markdown",
   "metadata": {},
   "source": [
    "### 参考\n",
    "> https://www.analyticsvidhya.com/blog/2014/10/introduction-k-neighbours-algorithm-clustering/"
   ]
  },
  {
   "cell_type": "code",
   "execution_count": 53,
   "metadata": {
    "scrolled": false
   },
   "outputs": [],
   "source": [
    "## 实现（鸢尾花⚜️）\n",
    "import csv\n",
    "import random\n",
    "\n",
    "import math\n",
    "\n",
    "filename = './data/iris.data'\n",
    "trainingSet = []\n",
    "testSet = []\n",
    "split = 0.66\n",
    "\n",
    "# loadDataset(filename, split, trainingSet, testSet)\n",
    "\n",
    "# print 'Train: ' + repr(len(trainingSet))\n",
    "# print 'Test: ' + repr(len(testSet))\n",
    "# print trainingSet\n",
    "\n",
    "def loadDataset(filename, split, trainingSet=[], testSet=[]):\n",
    "    with open(filename, 'rb') as csvfile:\n",
    "        lines = csv.reader(csvfile)\n",
    "        dataset = list(lines)\n",
    "        for x in range(len(dataset)-1):\n",
    "            for y in range(4):\n",
    "                dataset[x][y] = float(dataset[x][y]) # string -> float\n",
    "            if random.random() < split:\n",
    "                trainingSet.append(dataset[x])\n",
    "            else:\n",
    "                testSet.append(dataset[x])\n",
    "\n",
    "# data1 = [2, 2, 2, 'a']\n",
    "# data2 = [4, 4, 4, 'b']\n",
    "# distance = enclideanDistance(data1, data2, 3)\n",
    "# print 'Distance: ' + repr(distance)\n",
    "\n",
    "def enclideanDistance(instance1, instance2, length):\n",
    "    distance = 0\n",
    "    for x in range(length):\n",
    "        distance += pow( (instance1[x] - instance2[x]), 2)\n",
    "    return math.sqrt(distance)\n",
    "\n",
    "            "
   ]
  },
  {
   "cell_type": "markdown",
   "metadata": {},
   "source": [
    "训练集/测试集 ＝ 67/33"
   ]
  },
  {
   "cell_type": "code",
   "execution_count": 58,
   "metadata": {},
   "outputs": [],
   "source": [
    "import tensorflow"
   ]
  }
 ],
 "metadata": {
  "kernelspec": {
   "display_name": "Python 2",
   "language": "python",
   "name": "python2"
  },
  "language_info": {
   "codemirror_mode": {
    "name": "ipython",
    "version": 2
   },
   "file_extension": ".py",
   "mimetype": "text/x-python",
   "name": "python",
   "nbconvert_exporter": "python",
   "pygments_lexer": "ipython2",
   "version": "2.7.13"
  }
 },
 "nbformat": 4,
 "nbformat_minor": 2
}
