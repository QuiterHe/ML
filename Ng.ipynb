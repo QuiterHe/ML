{
 "cells": [
  {
   "cell_type": "markdown",
   "metadata": {},
   "source": [
    "## 监督学习 Supervised Learning（样本带标签）\n",
    "    回归 regression      样本数据连续\n",
    "    分类 classification  样本数据离散\n",
    "    \n",
    "## 非监督学习 Unsupervised Learning（样本不带标签）\n",
    "    聚类\n",
    "    \n",
    "## 损失函数\n",
    "\n",
    "## 一个未理解的式子\n"
   ]
  },
  {
   "cell_type": "markdown",
   "metadata": {},
   "source": [
    "[W, s, v] = svd((repmat(sum(x.*x, 1), size(x, 1), 1).*x).*x')"
   ]
  }
 ],
 "metadata": {
  "kernelspec": {
   "display_name": "Python 2",
   "language": "python",
   "name": "python2"
  },
  "language_info": {
   "codemirror_mode": {
    "name": "ipython",
    "version": 2
   },
   "file_extension": ".py",
   "mimetype": "text/x-python",
   "name": "python",
   "nbconvert_exporter": "python",
   "pygments_lexer": "ipython2",
   "version": "2.7.13"
  }
 },
 "nbformat": 4,
 "nbformat_minor": 2
}
