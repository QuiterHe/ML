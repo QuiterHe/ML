{
 "cells": [
  {
   "cell_type": "markdown",
   "metadata": {},
   "source": [
    "## 正态分布\n",
    "若随机变量$X$服从概率密度函数：\n",
    "$$ f(x) = \\frac{1}{\\sigma \\sqrt{2\\pi}} e^{-\\frac{(x-\\mu)^2}{2\\sigma ^2}} $$\n",
    "则称随机变量服从正态分布，记为：\n",
    "$$ X \\sim N(\\mu,\\sigma^2) $$\n",
    "其中，$\\mu$为数学期望，决定了概率密度函数的位置，  $\\sigma$为标准差，决定了概率密度函数分布的幅度  \n",
    "特别的，当$\\mu=0$ ,$\\sigma=1$时，称为标准正态函数\n",
    "\n",
    "## 多维正态分布\n",
    "$$ f(\\mu,\\Sigma) = \\frac{1}{\\sqrt{(2\\pi)^k|\\Sigma|}}e^{-\\frac{1}{2}(x-\\mu)^T\\Sigma^{-1}(x-\\mu)}$$\n",
    "其中k为维度，$\\Sigma$为协方差矩阵"
   ]
  },
  {
   "cell_type": "code",
   "execution_count": 8,
   "metadata": {},
   "outputs": [
    {
     "data": {
      "image/png": "[encoded data removed]",
      "text/plain": [
       "<matplotlib.figure.Figure at 0x10bed6f90>"
      ]
     },
     "metadata": {},
     "output_type": "display_data"
    }
   ],
   "source": [
    "import numpy as np\n",
    "import matplotlib.pyplot as plt\n",
    "import math\n",
    "\n",
    "\n",
    "%matplotlib inline\n",
    "\n",
    "u = 0   # 均值μ\n",
    "sig = math.sqrt(0.2)  # 标准差δ\n",
    "x = np.linspace(u - 3*sig, u + 3*sig, 50)\n",
    "\n",
    "y_sig = np.exp(-(x - u) ** 2 /(2* sig **2))/(math.sqrt(2*math.pi)*sig) # 高斯分布概率密度函数\n",
    "\n",
    "plt.plot(x, y_sig, \"r-\", linewidth=2)\n",
    "# plt.grid(True)\n",
    "plt.show()\n",
    "\n",
    "\n"
   ]
  }
 ],
 "metadata": {
  "kernelspec": {
   "display_name": "Python 2",
   "language": "python",
   "name": "python2"
  },
  "language_info": {
   "codemirror_mode": {
    "name": "ipython",
    "version": 2
   },
   "file_extension": ".py",
   "mimetype": "text/x-python",
   "name": "python",
   "nbconvert_exporter": "python",
   "pygments_lexer": "ipython2",
   "version": "2.7.13"
  }
 },
 "nbformat": 4,
 "nbformat_minor": 2
}
