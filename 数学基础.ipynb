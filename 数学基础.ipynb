{
 "cells": [
  {
   "cell_type": "markdown",
   "metadata": {},
   "source": [
    "## 梯度\n",
    "标量场中某一点的梯度指向在这点标量场增长最快的方向\n",
    "$$ \\nabla f $$表示函数的梯度\n",
    "其中$\\nabla$(nabla)表示向量微分算子\n",
    "举个例子\n",
    "\n",
    "在三维直角坐标系中\n",
    "$$ \\nabla \\varphi = \\left( \\frac{\\vartheta \\varphi}{\\vartheta x},\\frac{\\vartheta \\varphi}{\\vartheta y},\\frac{\\vartheta \\varphi}{\\vartheta z} \\right) $$\n",
    "\n",
    "在n * 1实向量中\n",
    "$$\n",
    "\\nabla_{\\boldsymbol{x}} f(\\boldsymbol{x})\\overset{\\underset{\\mathrm{def}}{}}{=} \\left[ \\frac{\\partial f(\\boldsymbol{x})}{\\partial x_1}, \\frac{\\partial f(\\boldsymbol{x})}{\\partial x_2},\\cdots,\\frac{\\partial f(\\boldsymbol{x})}{\\partial x_n} \\right]^T=\\frac{\\partial f(\\boldsymbol{x})}{\\partial \\boldsymbol{x}}\n",
    "$$\n",
    "\n",
    "## 方向导数\n",
    "$$ \\nabla_v f $$"
   ]
  }
 ],
 "metadata": {
  "kernelspec": {
   "display_name": "Python 2",
   "language": "python",
   "name": "python2"
  },
  "language_info": {
   "codemirror_mode": {
    "name": "ipython",
    "version": 2
   },
   "file_extension": ".py",
   "mimetype": "text/x-python",
   "name": "python",
   "nbconvert_exporter": "python",
   "pygments_lexer": "ipython2",
   "version": "2.7.13"
  }
 },
 "nbformat": 4,
 "nbformat_minor": 2
}
