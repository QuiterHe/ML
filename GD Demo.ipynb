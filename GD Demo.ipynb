{
 "cells": [
  {
   "cell_type": "code",
   "execution_count": 90,
   "metadata": {},
   "outputs": [
    {
     "name": "stdout",
     "output_type": "stream",
     "text": [
      "w: 2.07415580109\n",
      "b: 0.22139116674\n"
     ]
    },
    {
     "data": {
      "image/png": "[encoded data removed]",
      "text/plain": [
       "<matplotlib.figure.Figure at 0x11a61a290>"
      ]
     },
     "metadata": {},
     "output_type": "display_data"
    },
    {
     "name": "stdout",
     "output_type": "stream",
     "text": [
      "[20.962949177662345, 23.037104978754556, 25.111260779846763, 27.185416580938973, 29.259572382031184]\n"
     ]
    }
   ],
   "source": [
    "\"\"\"\n",
    "\n",
    "线性模型-梯度下降\n",
    "\n",
    "\"\"\"\n",
    "\n",
    "import matplotlib.pyplot as plt\n",
    "%matplotlib inline\n",
    "x = [2, 3, 4, 5, 6, 7, 8, 9]\n",
    "y = [5, 7, 9, 11, 13, 15, 17, 19]\n",
    "test_data = [10, 11, 12, 13, 14]\n",
    "\n",
    "x = [2, 3, 4, 5, 6, 7, 8, 9, 10, 11, 12, 13, 14, 15]\n",
    "y = [5, 7, 9, 11, 13, 15, 17, 19, 21, 23, 25, 27, 29, 31]\n",
    "\n",
    "# 迭代次数\n",
    "iteration = 100000\n",
    "\n",
    "# 学习率\n",
    "lr = 0.000001\n",
    "lr = 1\n",
    "# 初始w和b\n",
    "w = 0.01\n",
    "b = 0.01\n",
    "\n",
    "# \n",
    "p = 1\n",
    "\n",
    "lr_i = 0.00001\n",
    "\n",
    "w_rl = []\n",
    "e_rl = []\n",
    "for i in range(iteration):\n",
    "#     w_rad = 0\n",
    "#     b_rad = 0\n",
    "    e_w = 0.0\n",
    "    e_b = 0.0\n",
    "    \n",
    "    lr = lr_i / ( (i + 1)  ** 0.5 )\n",
    "    \n",
    "    for n in range(len(x)):\n",
    "        e_w = e_w + ( y[n] - (b + w * x[n]) ) * ( -1.0 * x[n] ) #+ 2 * p * w   # 正则化\n",
    "        e_b = e_b + ( y[n] - (b + w * x[n]) ) * (-1.0)\n",
    "        \n",
    "    w = w - lr * e_w \n",
    "    b = b - lr * e_b\n",
    "    w_rl.append(w)\n",
    "#     e_r.append(e_sum)\n",
    "#     print '==============='\n",
    "#     print e_sum\n",
    "#     print b\n",
    "        \n",
    "print 'w:',w\n",
    "print 'b:',b\n",
    "\n",
    "plt.plot(w_rl)\n",
    "plt.show()\n",
    "# plt.plot(e_r)\n",
    "# plt.show()\n",
    "\n",
    "# 预测\n",
    "pre = []\n",
    "for n in range(len(test_data)):\n",
    "    y_pre = b + w * test_data[n]\n",
    "    pre.append(y_pre)\n",
    "    \n",
    "print pre"
   ]
  },
  {
   "cell_type": "markdown",
   "metadata": {
    "collapsed": true
   },
   "source": [
    "\n",
    "优化方法\n",
    "1. 自适应学习率\n",
    "2. 正则化loss函数\n",
    "3. 随机梯度下降\n",
    "4. 批量梯度下降"
   ]
  }
 ],
 "metadata": {
  "kernelspec": {
   "display_name": "Python 2",
   "language": "python",
   "name": "python2"
  },
  "language_info": {
   "codemirror_mode": {
    "name": "ipython",
    "version": 2
   },
   "file_extension": ".py",
   "mimetype": "text/x-python",
   "name": "python",
   "nbconvert_exporter": "python",
   "pygments_lexer": "ipython2",
   "version": "2.7.13"
  }
 },
 "nbformat": 4,
 "nbformat_minor": 2
}
