{
 "cells": [
  {
   "cell_type": "code",
   "execution_count": 52,
   "metadata": {},
   "outputs": [
    {
     "name": "stdout",
     "output_type": "stream",
     "text": [
      "w: 2.23137960694\n",
      "b: -0.499824006638\n"
     ]
    },
    {
     "data": {
      "image/png": "[encoded data removed]",
      "text/plain": [
       "<matplotlib.figure.Figure at 0x11a885610>"
      ]
     },
     "metadata": {},
     "output_type": "display_data"
    },
    {
     "name": "stdout",
     "output_type": "stream",
     "text": [
      "[21.813972062789354, 24.04535166973209, 26.27673127667482, 28.50811088361755, 30.739490490560286]\n"
     ]
    }
   ],
   "source": [
    "import matplotlib.pyplot as plt\n",
    "%matplotlib inline\n",
    "x = [2, 3, 4, 5, 6, 7, 8, 9]\n",
    "y = [5, 7, 9, 11, 13, 15, 17, 19]\n",
    "test_data = [10, 11, 12, 13, 14]\n",
    "\n",
    "iteration = 100000\n",
    "lr = 0.000001\n",
    "\n",
    "\n",
    "w = 0.01\n",
    "b = 0.01\n",
    "\n",
    "lr_i = 0.00001\n",
    "\n",
    "w_rl = []\n",
    "e_rl = []\n",
    "for i in range(iteration):\n",
    "#     w_rad = 0\n",
    "#     b_rad = 0\n",
    "    e_w = 0.0\n",
    "    e_b = 0.0\n",
    "    \n",
    "#     lr = lr_i / ( (i + 1)  ** 0.5 )\n",
    "    \n",
    "    for n in range(len(x)):\n",
    "        e_w = e_w + ( y[n] - (b + w * x[n]) ) * x[n]\n",
    "        e_b = e_b + ( y[n] - (b + w * x[n]) ) * (-1.0)\n",
    "        \n",
    "    w = w + lr * e_w \n",
    "    b = b + lr * e_b\n",
    "    w_rl.append(w)\n",
    "#     e_r.append(e_sum)\n",
    "#     print '==============='\n",
    "#     print e_sum\n",
    "#     print b\n",
    "        \n",
    "print 'w:',w\n",
    "print 'b:',b\n",
    "\n",
    "plt.plot(w_rl)\n",
    "plt.show()\n",
    "# plt.plot(e_r)\n",
    "# plt.show()\n",
    "\n",
    "pre = []\n",
    "for n in range(len(test_data)):\n",
    "    y_pre = b + w * test_data[n]\n",
    "    pre.append(y_pre)\n",
    "    \n",
    "print pre"
   ]
  },
  {
   "cell_type": "code",
   "execution_count": null,
   "metadata": {
    "collapsed": true
   },
   "outputs": [],
   "source": []
  }
 ],
 "metadata": {
  "kernelspec": {
   "display_name": "Python 2",
   "language": "python",
   "name": "python2"
  },
  "language_info": {
   "codemirror_mode": {
    "name": "ipython",
    "version": 2
   },
   "file_extension": ".py",
   "mimetype": "text/x-python",
   "name": "python",
   "nbconvert_exporter": "python",
   "pygments_lexer": "ipython2",
   "version": "2.7.13"
  }
 },
 "nbformat": 4,
 "nbformat_minor": 2
}
