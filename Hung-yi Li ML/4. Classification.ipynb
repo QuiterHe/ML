{
 "cells": [
  {
   "cell_type": "markdown",
   "metadata": {},
   "source": [
    "## 分类问题描述\n",
    "略\n",
    "\n",
    "## 生成模型\n",
    "通过假设数据的分布模型，来寻求一个合适的概率生成模型用于计算分类，取其中概率最大（或大于 0.5）的结果作为预测分类结果\n",
    "\n",
    "## 贝叶斯决策\n",
    "贝叶斯公式\n",
    "$$ P(Y_k|X) = \\frac{P(X|Y_k)P(Y_k)}{P(X)} \\\\ = \\frac{P(X|Y_k)P(Y_k)}{\\sum_k{P(X|Y_k)P(Y_k)}}$$\n",
    "上述公式描述了 先验概率和后验概率之间的关系\n",
    "\n",
    "通过统计概率，计算给定$X$属于$Y_k$的概率  \n",
    "计算上述公式，将$P(Y_k|X)>0.5$的$Y_k$作为给定$X$的分类  \n",
    "\n",
    "其中$P(Y)$可以直接通过统计得到  \n",
    "$P(X|Y_k)$可以通过假设数据分布模型得到  \n",
    "\n",
    "假设样本数据服从 正态分布,即$X$的概率密度函数为\n",
    "$$ f(\\mu,\\Sigma) = \\frac{1}{\\sqrt{(2\\pi)^k|\\Sigma|}}e^{-\\frac{1}{2}(x-\\mu)^T\\Sigma^{-1}(x-\\mu)}$$\n",
    "\n",
    "则$P(X|Y_k)=f_{\\mu,\\Sigma}(X)$\n",
    "\n",
    "则目标转化为在给定样本数据和假设数据服从正态分布时，求该正态分布，即求$\\mu,\\Sigma$\n",
    "\n",
    "$\\mu,\\Sigma$的似然函数定义为  \n",
    "$$ L(\\mu, \\Sigma) = f_{\\mu,\\Sigma}(x^1)f_{\\mu,\\Sigma}(x^2)\\cdot\\cdot\\cdot f_{\\mu,\\Sigma}(x^n) $$\n",
    "\n",
    "求上述最大似然函数值得到$\\mu,\\Sigma$ \n",
    "当:\n",
    "$$ \\mu^* = E(X) $$\n",
    "$$ \\Sigma^* = \\frac{1}{N}\\sum_{n=1}^{N}{(x^n - \\mu^*)(x^n - \\mu^*)^T} $$\n",
    "得到分布函数\n",
    "\n",
    "最后得到对于测试数据的分类概率值$P(Y_k|X)$\n",
    "\n",
    "\n",
    "共享协方差矩阵\n",
    "减少参数，避免过拟合\n",
    "$$ \\Sigma^* = E(\\Sigma) $$\n",
    "\n",
    "## 朴素贝叶斯\n",
    "记$x = [x_1, x_2, \\cdots]^T$  \n",
    "朴素贝叶斯假设$x$的各个特征相互独立，则有  \n",
    "$$ P(x|C) = P(x_1|C)P(x_2|C)\\cdots $$\n",
    "\n",
    "## 反曲函数\n",
    "$$ \\sigma(z) = \\frac{1}{1+e^{-z}} $$\n",
    "\n",
    "在二分类模型下，\n",
    "$$ P(x|C) = \\frac{1}{1+e^{-z}} = \\sigma(w\\cdot x + b)$$"
   ]
  },
  {
   "cell_type": "code",
   "execution_count": 6,
   "metadata": {},
   "outputs": [
    {
     "data": {
      "image/png": "[encoded data removed]",
      "text/plain": [
       "<matplotlib.figure.Figure at 0x1132a5f10>"
      ]
     },
     "metadata": {},
     "output_type": "display_data"
    }
   ],
   "source": [
    "import numpy as np\n",
    "import matplotlib.pyplot as plt\n",
    "import math\n",
    "\n",
    "\n",
    "%matplotlib inline\n",
    "\n",
    "start = -10   \n",
    "end = 10\n",
    "num = 100000\n",
    "\n",
    "x = np.linspace(start, end, num)\n",
    "\n",
    "y = 1 / (1+np.exp(-x))\n",
    "\n",
    "plt.plot(x, y, \"r-\", linewidth=2)\n",
    "# plt.grid(True)\n",
    "plt.show()\n",
    "\n"
   ]
  }
 ],
 "metadata": {
  "kernelspec": {
   "display_name": "Python 2",
   "language": "python",
   "name": "python2"
  },
  "language_info": {
   "codemirror_mode": {
    "name": "ipython",
    "version": 2
   },
   "file_extension": ".py",
   "mimetype": "text/x-python",
   "name": "python",
   "nbconvert_exporter": "python",
   "pygments_lexer": "ipython2",
   "version": "2.7.13"
  }
 },
 "nbformat": 4,
 "nbformat_minor": 2
}
