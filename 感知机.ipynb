{
 "cells": [
  {
   "cell_type": "markdown",
   "metadata": {},
   "source": [
    "$\\Gamma(n) = (n-1)!\\quad\\forall n\\in\\mathbb N$"
   ]
  },
  {
   "cell_type": "markdown",
   "metadata": {},
   "source": [
    "## 感知机（二分类问题）\n",
    "> 输入\n",
    "\\begin{align}\n",
    "T = \\{(x_1, y_1), (x_2, y_2), \\cdots, (x_n, y_n)\\}\n",
    "\\end{align}\n",
    "其中 $x \\in R^n$,$y \\in \\{ +1, -1 \\}$，\n",
    "输出 $y \\in \\{ +1, -1 \\}$\n",
    "\n",
    ">假设 $X$是线性可分的，即存在一个分离超平面，将$X$完全正确的分为两类\n",
    "线性可分描述为： \n",
    "$$ f(x) = sign(x) = \\begin{cases} +1&\\text{x $\\ge$ 0},\\\\ -1&\\text{x $<$ 0} \\end{cases} $$\n",
    "则感知机描述为：\n",
    "$$ f(x) = sign(wx + b) $$\n",
    "其中$ w \\in R^n $，$ b \\in R $，$w$表征每个向量$x$的权重。\n",
    "\n",
    "> 分离超平面\n",
    "$$ wx + b = 0 $$\n",
    "\n",
    "> 损失函数\n",
    "定义为 点到超平面的距离\n",
    "$$ L(x) = \\frac{1}{\\|w\\|}|wx + b|  $$\n",
    "其中$ \\| w \\| $是$w$的$L_2$范数。\n",
    "对$L(x)$进行去绝对值处理\n",
    "得到\n",
    "$$ L(x) = -y\\frac{1}{\\| w \\|}(wx + b) $$\n",
    "即$$ L = -\\frac{1}{\\|w\\|}\\sum_{i\\in M} y_i(w_ix_i + b) $$\n",
    "不考虑$\\frac{1}{\\|w\\|}$ 得感知机的损失函数为\n",
    "$$ L(w, b) = -\\sum_{i\\in M} y_i(wx_i + b) $$\n",
    "其中$M$为偏离点集合\n",
    "则问题转化为：\n",
    "在给定$T$的情况下，求$L(w, b)$的极值\n",
    "\n",
    "> 采用随机梯度下降法求$L(w, b)$的极值\n",
    "分别对$w$和$b$求偏导，有\n",
    "$$ \\nabla_wL(w, b) = -\\sum_{x\\in M}y_i x_i $$\n",
    "$$ \\nabla_bL(w, b) = -\\sum_{x\\in M}y_i $$"
   ]
  },
  {
   "cell_type": "code",
   "execution_count": null,
   "metadata": {
    "collapsed": true
   },
   "outputs": [],
   "source": []
  }
 ],
 "metadata": {
  "kernelspec": {
   "display_name": "Python 2",
   "language": "python",
   "name": "python2"
  },
  "language_info": {
   "codemirror_mode": {
    "name": "ipython",
    "version": 2
   },
   "file_extension": ".py",
   "mimetype": "text/x-python",
   "name": "python",
   "nbconvert_exporter": "python",
   "pygments_lexer": "ipython2",
   "version": "2.7.13"
  }
 },
 "nbformat": 4,
 "nbformat_minor": 2
}
