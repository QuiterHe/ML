{
 "cells": [
  {
   "cell_type": "markdown",
   "metadata": {},
   "source": [
    "## 栗子\n",
    "学习\n",
    "$$ y = 0.1x + 0.3 $$\n",
    "\n"
   ]
  },
  {
   "cell_type": "code",
   "execution_count": 10,
   "metadata": {},
   "outputs": [
    {
     "name": "stdout",
     "output_type": "stream",
     "text": [
      "(0, array([-0.03224194], dtype=float32), array([ 0.48755801], dtype=float32))\n",
      "(20, array([ 0.05175654], dtype=float32), array([ 0.32446861], dtype=float32))\n",
      "(40, array([ 0.08713046], dtype=float32), array([ 0.30652732], dtype=float32))\n",
      "(60, array([ 0.09656689], dtype=float32), array([ 0.30174124], dtype=float32))\n",
      "(80, array([ 0.09908418], dtype=float32), array([ 0.30046451], dtype=float32))\n",
      "(100, array([ 0.0997557], dtype=float32), array([ 0.30012393], dtype=float32))\n",
      "(120, array([ 0.09993483], dtype=float32), array([ 0.30003306], dtype=float32))\n",
      "(140, array([ 0.09998261], dtype=float32), array([ 0.30000883], dtype=float32))\n",
      "(160, array([ 0.09999537], dtype=float32), array([ 0.30000237], dtype=float32))\n",
      "(180, array([ 0.09999875], dtype=float32), array([ 0.30000064], dtype=float32))\n",
      "(200, array([ 0.09999968], dtype=float32), array([ 0.30000016], dtype=float32))\n"
     ]
    }
   ],
   "source": [
    "import tensorflow as tf\n",
    "import numpy as np\n",
    "\n",
    "# create data\n",
    "x_data = np.random.rand(100).astype(np.float32)\n",
    "y_data = x_data * 0.1 + 0.3\n",
    "\n",
    "### create tensorflow structure start ###\n",
    "Weights = tf.Variable(tf.random_uniform([1], -1.0, 1.0))\n",
    "biases = tf.Variable(tf.zeros([1]))\n",
    "\n",
    "y = Weights * x_data + biases\n",
    "\n",
    "loss = tf.reduce_mean(tf.square( y - y_data ))\n",
    "optimizer = tf.train.GradientDescentOptimizer(0.5)  #梯度下降\n",
    "train = optimizer.minimize(loss)\n",
    "\n",
    "init = tf.global_variables_initializer()\n",
    "### create tensorflow structure end ###\n",
    "\n",
    "sess = tf.Session()\n",
    "sess.run(init)\n",
    "\n",
    "for step in range(201):\n",
    "    sess.run(train)\n",
    "    if step % 20 == 0:\n",
    "        print(step, sess.run(Weights), sess.run(biases))\n",
    "\n"
   ]
  }
 ],
 "metadata": {
  "kernelspec": {
   "display_name": "Python 2",
   "language": "python",
   "name": "python2"
  },
  "language_info": {
   "codemirror_mode": {
    "name": "ipython",
    "version": 2
   },
   "file_extension": ".py",
   "mimetype": "text/x-python",
   "name": "python",
   "nbconvert_exporter": "python",
   "pygments_lexer": "ipython2",
   "version": "2.7.13"
  }
 },
 "nbformat": 4,
 "nbformat_minor": 2
}
