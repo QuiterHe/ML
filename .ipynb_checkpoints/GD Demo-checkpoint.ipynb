{
 "cells": [
  {
   "cell_type": "code",
   "execution_count": null,
   "metadata": {},
   "outputs": [],
   "source": [
    "import matplotlib.pyplot as plt\n",
    "%matplotlib inline\n",
    "x = [2, 3, 4, 5, 6, 7, 8, 9]\n",
    "y = [5, 7, 9, 11, 13, 15, 17, 19]\n",
    "test_data = [10, 11, 12, 13, 14]\n",
    "\n",
    "iteration = 1000\n",
    "lr = 0.000001\n",
    "\n",
    "\n",
    "w = 0.01\n",
    "b = 0.01\n",
    "\n",
    "lr_i = 0.0001\n",
    "\n",
    "w_r = []\n",
    "e_r = []\n",
    "for i in range(iteration):\n",
    "#     w_rad = 0\n",
    "#     b_rad = 0\n",
    "    e_sum = 0\n",
    "#     lr = lr_i / (i + 1)\n",
    "    \n",
    "    for n in range(len(x)):\n",
    "        e_sum = e_sum + y[n] - (b + w * x[n])\n",
    "        \n",
    "    w = w + lr * e_sum * x[n]\n",
    "    b = b + lr * e_sum * (-1)\n",
    "    w_r.append(w)\n",
    "    e_r.append(e_sum)\n",
    "#     print '==============='\n",
    "#     print e_sum\n",
    "#     print b\n",
    "        \n",
    "print 'w:',w\n",
    "print 'b:',b\n",
    "\n",
    "# plt.plot(w_r)\n",
    "# plt.show()\n",
    "plt.plot(e_r)\n",
    "plt.show()\n",
    "\n",
    "pre = []\n",
    "for n in range(len(test_data)):\n",
    "    y_pre = b + w * test_data[n]\n",
    "    pre.append(y_pre)\n",
    "    \n",
    "print pre"
   ]
  }
 ],
 "metadata": {
  "kernelspec": {
   "display_name": "Python 2",
   "language": "python",
   "name": "python2"
  },
  "language_info": {
   "codemirror_mode": {
    "name": "ipython",
    "version": 2
   },
   "file_extension": ".py",
   "mimetype": "text/x-python",
   "name": "python",
   "nbconvert_exporter": "python",
   "pygments_lexer": "ipython2",
   "version": "2.7.13"
  }
 },
 "nbformat": 4,
 "nbformat_minor": 2
}
