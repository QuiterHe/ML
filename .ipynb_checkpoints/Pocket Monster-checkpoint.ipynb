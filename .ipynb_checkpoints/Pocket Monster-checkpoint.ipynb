{
 "cells": [
  {
   "attachments": {},
   "cell_type": "markdown",
   "metadata": {},
   "source": [
    "## 预测神奇宝贝的cp值\n",
    "\n",
    "属性： \n",
    "$x_s$: 物种  \n",
    "$x_{cp}$: cp值  \n",
    "$x_{hp}$: hp值  \n",
    "$x_w$: weight  \n",
    "$x_h$: height  \n",
    "\n",
    "求：\n",
    "进化后的cp值(y)\n",
    "\n",
    "解：\n",
    "\n",
    "假设进化前的cp值和进化后的cp值成线性  \n",
    "即：  \n",
    "$y=b+w \\cdot x$  \n",
    "若$x为多维$  \n",
    "$ y = b + \\sum{w_ix_i} $\n",
    "\n",
    "\n",
    "\n"
   ]
  }
 ],
 "metadata": {
  "kernelspec": {
   "display_name": "Python 2",
   "language": "python",
   "name": "python2"
  },
  "language_info": {
   "codemirror_mode": {
    "name": "ipython",
    "version": 2
   },
   "file_extension": ".py",
   "mimetype": "text/x-python",
   "name": "python",
   "nbconvert_exporter": "python",
   "pygments_lexer": "ipython2",
   "version": "2.7.13"
  }
 },
 "nbformat": 4,
 "nbformat_minor": 2
}
