{
 "cells": [
  {
   "cell_type": "markdown",
   "metadata": {},
   "source": [
    "\n",
    "## 三大步骤\n",
    "    1.建模\n",
    "    2.评价／量度模型\n",
    "    3.寻找最优模型\n",
    "    \n",
    "## 分类\n",
    "    1. 监督学习（数据有标签）\n",
    "    2. 无监督学习／半监督学习（数据无标签／一部分数据有标签）\n",
    "    3. 转移学习（TODO）\n",
    "    4. 强化学习\n",
    "    5. 结构化学习"
   ]
  }
 ],
 "metadata": {
  "kernelspec": {
   "display_name": "Python 2",
   "language": "python",
   "name": "python2"
  },
  "language_info": {
   "codemirror_mode": {
    "name": "ipython",
    "version": 2
   },
   "file_extension": ".py",
   "mimetype": "text/x-python",
   "name": "python",
   "nbconvert_exporter": "python",
   "pygments_lexer": "ipython2",
   "version": "2.7.13"
  }
 },
 "nbformat": 4,
 "nbformat_minor": 2
}
