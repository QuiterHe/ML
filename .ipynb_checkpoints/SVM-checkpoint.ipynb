{
 "cells": [
  {
   "cell_type": "code",
   "execution_count": 13,
   "metadata": {},
   "outputs": [
    {
     "name": "stdout",
     "output_type": "stream",
     "text": [
      "[[87  0  0  0  1  0  0  0  0  0]\n",
      " [ 0 88  1  0  0  0  0  0  1  1]\n",
      " [ 0  0 85  1  0  0  0  0  0  0]\n",
      " [ 0  0  0 79  0  3  0  4  5  0]\n",
      " [ 0  0  0  0 88  0  0  0  0  4]\n",
      " [ 0  0  0  0  0 88  1  0  0  2]\n",
      " [ 0  1  0  0  0  0 90  0  0  0]\n",
      " [ 0  0  0  0  0  1  0 88  0  0]\n",
      " [ 0  0  0  0  0  0  0  0 88  0]\n",
      " [ 0  0  0  1  0  1  0  0  0 90]]\n"
     ]
    }
   ],
   "source": [
    "%matplotlib inline\n",
    "import matplotlib.pyplot as plt\n",
    "from sklearn import datasets, svm, metrics\n",
    "\n",
    "digits = datasets.load_digits()\n",
    "\n",
    "n_samples = len(digits.images)\n",
    "\n",
    "# 1797*8*8 => 1797*64*1\n",
    "data = digits.images.reshape(n_samples, -1)\n",
    "\n",
    "# SVC分类器\n",
    "classifier = svm.SVC(gamma=0.001)\n",
    "\n",
    "# 用前半部分做训练集\n",
    "classifier.fit(data[:n_samples / 2], digits.target[:n_samples / 2])\n",
    "\n",
    "expected = digits.target[n_samples / 2:]\n",
    "\n",
    "# 用后半部分做测试集\n",
    "predicted = classifier.predict(data[n_samples / 2:])\n",
    "\n",
    "# 测试误差\n",
    "print metrics.confusion_matrix(expected, predicted)"
   ]
  },
  {
   "cell_type": "markdown",
   "metadata": {},
   "source": [
    "## 线性可分支持向量机\n",
    "### 函数间隔\n",
    "\n",
    "定义：\n",
    "对于给定的训练数据集$T$和超平面$(w,b)$，定义超平面$(w,b)$关于样本点$(x_i,y_i)$的函数间隔为\n",
    "$$ \\widehat{\\gamma}_i = y_i(w\\cdot x_i + b) $$\n",
    "定义超平面$(w,b)$关于训练数据集$T$的函数间隔为超平面$(w,b)$关于$T$中所有样本点$(x_i,y_i)$的函数间隔之最小值，即\n",
    "$$ \\widehat{\\gamma} = \\mathop {\\min} \\limits_{i=1,\\cdots,N}\\widehat{\\gamma}_i $$\n",
    "函数间隔可以表示分类预测的正确性及确信度\n",
    "\n",
    "### 几何间隔\n",
    "对于给定的训练数据集$T$和超平面$(w,b)$，定义超平面$(w,b)$关于样本点$(x_i, y_i)$的几何间隔为\n",
    "$$ \\gamma_i = y_i\\left( \\frac{w}{\\|w\\|}x_i + \\frac{b}{\\|w\\|} \\right)  $$\n",
    "超平面$(w,b)$关于数据集的几何间隔为\n",
    "$$ \\gamma = \\mathop {\\min} \\limits_{i=1,\\cdots,N} \\gamma_i $$\n",
    "\n",
    "函数间隔和几何间隔的关系为\n",
    "$$ \\gamma_i = \\frac{\\widehat{\\gamma}_i}{\\|w\\|}\\\\\n",
    "\\gamma = \\frac{\\widehat{\\gamma}}{\\|w\\|}\n",
    "$$\n",
    "\n",
    "当$\\|w\\|=1$时，函数间隔和几何间隔相等\n",
    "\n"
   ]
  },
  {
   "cell_type": "markdown",
   "metadata": {},
   "source": [
    "间隔最大化\n",
    "\n",
    "1. 最大间隔分离超平面\n",
    "$$ \n",
    "\\begin{align*}  \\\\\n",
    "& \\mathop {\\max}\\limits_{w,b}  \\quad  \\gamma \\\\\n",
    "& s.t. \\quad  y_i\\left( \\frac{w}{\\|w\\|}x_i + \\frac{b}{\\|w\\|} \\right) \\ge \\gamma, i=1,2,\\cdots,N \\\\\n",
    "\\end{align*}\n",
    "$$\n",
    "\n",
    "转化为凸二次规划\n",
    "$$ \n",
    "\\begin{align*}  \\\\\n",
    "& \\mathop {\\max}\\limits_{w,b} \\quad \\frac{1}{2}\\|w\\|^2 \\\\\n",
    "& s.t. \\quad  y_i\\left( {w}x_i + {b} \\right) -1 \\ge 0, i=1,2,\\cdots,N \\\\\n",
    "\\end{align*}\n",
    "$$\n",
    "\n",
    "线性可分训练集的最大间隔分离超平面存在且唯一"
   ]
  },
  {
   "cell_type": "markdown",
   "metadata": {},
   "source": [
    "2. 支持向量\n",
    "在线性可分情况下，训练数据集的样本点中与分离超平面距离最近的样本点的实例称为支持向量机。即满足下式的点\n",
    "$$ y_i(w\\cdot x_i + b) -1 =0 $$"
   ]
  },
  {
   "cell_type": "markdown",
   "metadata": {},
   "source": [
    "仿射函数\n",
    "\n",
    "$f(x)$称为仿射函数，如果它满足\n",
    "$$ f(x) = a\\cdot x+b, a\\in R^n, b\\in R, x \\in R^n $$"
   ]
  },
  {
   "cell_type": "markdown",
   "metadata": {},
   "source": [
    "## 对偶算法\n",
    "构造拉格朗日函数\n",
    "$$ L(w,b,\\alpha) = \\frac{1}{2}\\|w\\|^2 - \\sum_{i=1}^{N}{\\alpha_iy_i(wx_i+b)} + \\sum_{i=1}^{N}\\alpha_i $$\n",
    "其中，$\\alpha_i \\ge 0, i=1,2,\\cdots, N,\\alpha=(\\alpha_1,\\alpha_2, \\cdots, \\alpha_N)^T$\n",
    "，$\\alpha$为拉格朗日乘子\n",
    "原始问题可以转化为\n",
    "$$ \\mathop{max} \\limits_{\\alpha} \\mathop{min} \\limits_{w,b} L(w,b,\\alpha) $$"
   ]
  }
 ],
 "metadata": {
  "kernelspec": {
   "display_name": "Python 2",
   "language": "python",
   "name": "python2"
  },
  "language_info": {
   "codemirror_mode": {
    "name": "ipython",
    "version": 2
   },
   "file_extension": ".py",
   "mimetype": "text/x-python",
   "name": "python",
   "nbconvert_exporter": "python",
   "pygments_lexer": "ipython2",
   "version": "2.7.13"
  }
 },
 "nbformat": 4,
 "nbformat_minor": 2
}
