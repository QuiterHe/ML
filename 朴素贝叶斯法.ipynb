{
 "cells": [
  {
   "cell_type": "markdown",
   "metadata": {
    "collapsed": true
   },
   "source": [
    "## 贝叶斯公式\n",
    "$$ P\\left( A|B \\right) = \\frac{P\\left( B|A \\right) P\\left( A \\right)}{P\\left( B \\right)}  $$\n",
    "贝叶斯公式描述了 $ P\\left( A|B \\right) \\rightleftharpoons P\\left( B|A \\right) $之间的转化关系\n",
    "\n",
    "## 联合分布的条件概率分布\n",
    "$$ P(X_1 = a_i | X_2 = b_j) = \\frac{P(X_1X_2)}{P(X_2)} = \\frac{P(X_1 = a_i, X_2 = b_j)}{P(X_2 = b_j)} $$\n",
    "\n",
    "\n",
    "## 条件独立性假设\n",
    "$$ P(X_1, X_2) = P(X_1)P(x_2) $$\n",
    "\n",
    "## 步骤\n",
    "> 1. 算出$Y$的概率分布,$P(X|Y)$\n",
    "> 2. 对于给定的$X$，估计贝叶斯公式，得出后验概率$P(Y|X)$\n",
    "> 3. 取最大的后验概率的$Y$\n",
    "\n",
    "## 拉普拉斯平滑\n"
   ]
  }
 ],
 "metadata": {
  "kernelspec": {
   "display_name": "Python 2",
   "language": "python",
   "name": "python2"
  },
  "language_info": {
   "codemirror_mode": {
    "name": "ipython",
    "version": 2
   },
   "file_extension": ".py",
   "mimetype": "text/x-python",
   "name": "python",
   "nbconvert_exporter": "python",
   "pygments_lexer": "ipython2",
   "version": "2.7.13"
  }
 },
 "nbformat": 4,
 "nbformat_minor": 2
}
