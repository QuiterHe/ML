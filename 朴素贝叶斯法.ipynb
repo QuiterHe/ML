{
 "cells": [
  {
   "cell_type": "markdown",
   "metadata": {
    "collapsed": true
   },
   "source": [
    "## 贝叶斯公式\n",
    "$$ P\\left( A|B \\right) = \\frac{P\\left( B|A \\right) P\\left( A \\right)}{P\\left( B \\right)}  $$\n",
    "贝叶斯公式描述了 $ P\\left( A|B \\right) \\rightleftharpoons P\\left( B|A \\right) $之间的转化关系"
   ]
  }
 ],
 "metadata": {
  "kernelspec": {
   "display_name": "Python 2",
   "language": "python",
   "name": "python2"
  },
  "language_info": {
   "codemirror_mode": {
    "name": "ipython",
    "version": 2
   },
   "file_extension": ".py",
   "mimetype": "text/x-python",
   "name": "python",
   "nbconvert_exporter": "python",
   "pygments_lexer": "ipython2",
   "version": "2.7.13"
  }
 },
 "nbformat": 4,
 "nbformat_minor": 2
}
